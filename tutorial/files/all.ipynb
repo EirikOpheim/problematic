{
 "cells": [
  {
   "cell_type": "code",
   "execution_count": 1,
   "metadata": {},
   "outputs": [
    {
     "name": "stderr",
     "output_type": "stream",
     "text": [
      "WARNING:hyperspy.api:The ipywidgets GUI elements are not available, probably because the hyperspy_gui_ipywidgets package is not installed.\n",
      "WARNING:hyperspy.api:The traitsui GUI elements are not available, probably because the hyperspy_gui_traitui package is not installed.\n"
     ]
    }
   ],
   "source": [
    "%matplotlib tk\n",
    "from problematic import Indexer, Projector\n",
    "from problematic import serialED\n",
    "import matplotlib.pyplot as plt\n",
    "plt.rcParams[\"image.cmap\"] = \"viridis\""
   ]
  },
  {
   "cell_type": "code",
   "execution_count": 2,
   "metadata": {},
   "outputs": [
    {
     "name": "stdout",
     "output_type": "stream",
     "text": [
      "Cell LTA\n",
      "   a      24.6100       al        90.00\n",
      "   b      24.6100       be        90.00\n",
      "   c      24.6100       ga        90.00\n",
      "Vol.   14905.10\n",
      "Spgr Fm-3c\n",
      "\n",
      "Projection data\n",
      "   Reflections: 13658\n",
      "         Range: 1.0 - 10.0 Angstrom\n",
      "    min(u,v,w): [-0.97521333 -0.97521333 -0.97521333]\n",
      "    max(u,v,w): [0.97521333 0.97521333 0.97521333]\n",
      "    Thickness: 400\n",
      "    Wavelength: 0.0251\n",
      "746 projections x 209 rotations = 155914 items\n",
      "\n"
     ]
    }
   ],
   "source": [
    "name = \"LTA\"\n",
    "spgr = \"Fm-3c\"\n",
    "params = (24.6100,)\n",
    "\n",
    "dmin, dmax = 1.0, 10.0\n",
    "thickness = 400\n",
    "\n",
    "projector = Projector.from_parameters(params, \n",
    "                                      spgr=spgr, \n",
    "                                      name=name, \n",
    "                                      dmin=dmin, \n",
    "                                      dmax=dmax, \n",
    "                                      thickness=thickness)\n",
    "\n",
    "pixelsize = 0.003957  # pixels per angstrom\n",
    "indexer = Indexer.from_projector(projector, pixelsize=pixelsize)"
   ]
  },
  {
   "cell_type": "code",
   "execution_count": 3,
   "metadata": {},
   "outputs": [],
   "source": [
    "processed = serialED.load(\"processed_all.hdf5\")\n",
    "centers = processed._centers"
   ]
  },
  {
   "cell_type": "code",
   "execution_count": 20,
   "metadata": {},
   "outputs": [
    {
     "data": {
      "application/vnd.jupyter.widget-view+json": {
       "model_id": "068691827da5450c8ac2aeb29c9bb6f5",
       "version_major": 2,
       "version_minor": 0
      },
      "text/plain": [
       "HBox(children=(IntProgress(value=0, max=667), HTML(value='')))"
      ]
     },
     "metadata": {},
     "output_type": "display_data"
    }
   ],
   "source": [
    "orientations = processed.find_orientations(indexer, centers, nsolutions=25)\n",
    "serialED.io_utils.save_orientations(orientations, out=\"orientations_all.npy\")"
   ]
  },
  {
   "cell_type": "code",
   "execution_count": 21,
   "metadata": {},
   "outputs": [
    {
     "data": {
      "application/vnd.jupyter.widget-view+json": {
       "model_id": "56518d46a3a24c88ae75947d4f9b33de",
       "version_major": 2,
       "version_minor": 0
      },
      "text/plain": [
       "HBox(children=(IntProgress(value=0, max=667), HTML(value='')))"
      ]
     },
     "metadata": {},
     "output_type": "display_data"
    }
   ],
   "source": [
    "refined = processed.refine_orientations(indexer, orientations, vary_center=False)\n",
    "serialED.io_utils.save_orientations(refined, out=\"refined_all.npy\")"
   ]
  },
  {
   "cell_type": "code",
   "execution_count": 4,
   "metadata": {},
   "outputs": [
    {
     "data": {
      "application/vnd.jupyter.widget-view+json": {
       "model_id": "b4adf1c5125e4d2ba27a74ab09a4a2ec",
       "version_major": 2,
       "version_minor": 0
      },
      "text/plain": [
       "HBox(children=(IntProgress(value=0, max=667), HTML(value='')))"
      ]
     },
     "metadata": {},
     "output_type": "display_data"
    },
    {
     "name": "stdout",
     "output_type": "stream",
     "text": [
      "\n"
     ]
    }
   ],
   "source": [
    "processed_all = serialED.load(\"processed_all.hdf5\")\n",
    "all_orientations = serialED.io_utils.load_orientations(\"refined_all.npy\")\n",
    "intensities = processed_all.extract_intensities(orientations=all_orientations, indexer=indexer)"
   ]
  },
  {
   "cell_type": "code",
   "execution_count": 6,
   "metadata": {},
   "outputs": [
    {
     "name": "stdout",
     "output_type": "stream",
     "text": [
      "Number of frames: 200\n",
      "Observed reflections: 19763\n",
      "Ignore 11127 reflections with I=0\n",
      "Remaining reflections: 8636\n",
      "Unique reflections: 324\n",
      "Array shape: (324, 324)\n",
      "Memory usage: 0.40045166015625 MB\n",
      "Completeness: 63350/104976=60.35%\n",
      "Reflection redundancy: 26.65\n",
      "Pair redundancy: 3.791\n",
      "Kendall's tau: 0.691\n",
      "\n",
      "Most common reflections:\n",
      "(4, 4, 4)       185\n",
      "(6, 6, 16)      153\n",
      "(0, 0, 10)      150\n",
      "(8, 8, 16)      101\n",
      "(0, 2, 8)       101\n",
      "(0, 0, 14)      101\n",
      "(2, 2, 10)       98\n",
      "(10, 10, 10)     95\n",
      "(1, 3, 5)        91\n",
      "(0, 2, 4)        91\n",
      "Name: Nobs, dtype: int64\n",
      "\n",
      "Wrote 324 reflections to file merged.hkl\n",
      "\n",
      "Wrote 324 reflections to file matched_all.hkl\n"
     ]
    }
   ],
   "source": [
    "m = serialED.serialmerge_intensities(intensities, all_orientations, n=200)\n",
    "serialED.match_histogram(data=\"merged.hkl\", histogram=\"MFI.hkl\", fout=\"matched_all.hkl\")"
   ]
  },
  {
   "cell_type": "code",
   "execution_count": null,
   "metadata": {},
   "outputs": [],
   "source": []
  }
 ],
 "metadata": {
  "kernelspec": {
   "display_name": "Py3 (serialED)",
   "language": "python",
   "name": "py3-serialed"
  },
  "language_info": {
   "codemirror_mode": {
    "name": "ipython",
    "version": 3
   },
   "file_extension": ".py",
   "mimetype": "text/x-python",
   "name": "python",
   "nbconvert_exporter": "python",
   "pygments_lexer": "ipython3",
   "version": "3.6.5"
  }
 },
 "nbformat": 4,
 "nbformat_minor": 2
}
