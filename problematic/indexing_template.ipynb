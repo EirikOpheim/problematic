{
 "cells": [
  {
   "cell_type": "code",
   "execution_count": null,
   "metadata": {
    "collapsed": true
   },
   "outputs": [],
   "source": [
    "%matplotlib tk\n",
    "from problematic import Indexer, Projector\n",
    "from problematic import serialED"
   ]
  },
  {
   "cell_type": "code",
   "execution_count": null,
   "metadata": {
    "collapsed": true
   },
   "outputs": [],
   "source": [
    "ed = serialED.load(\"data/*.h5\")"
   ]
  },
  {
   "cell_type": "code",
   "execution_count": null,
   "metadata": {
    "collapsed": true
   },
   "outputs": [],
   "source": [
    "ed.plot(vmax=300)"
   ]
  },
  {
   "cell_type": "code",
   "execution_count": null,
   "metadata": {
    "collapsed": true
   },
   "outputs": [],
   "source": [
    "beam_center_sigma = 10       # sigma of the gaussian kernel\n",
    "centers = ed.get_direct_beam_position(sigma=beam_center_sigma)"
   ]
  },
  {
   "cell_type": "code",
   "execution_count": null,
   "metadata": {
    "collapsed": true
   },
   "outputs": [],
   "source": [
    "background_footprint = 19    # window for the median filter\n",
    "processed = ed.remove_background(footprint=background_footprint)"
   ]
  },
  {
   "cell_type": "code",
   "execution_count": null,
   "metadata": {
    "collapsed": true
   },
   "outputs": [],
   "source": [
    "stretch_azimuth = -6.61      # orientation of the major axis of the ellipse\n",
    "stretch_amplitude = 2.43     # percent difference between the major/minor axes\n",
    "processed = processed.apply_stretch_correction(azimuth=stretch_azimuth, amplitude=stretch_amplitude, centers=centers)"
   ]
  },
  {
   "cell_type": "code",
   "execution_count": null,
   "metadata": {
    "collapsed": true
   },
   "outputs": [],
   "source": [
    "processed.find_peaks_interactive(imshow_kwargs={\"vmax\":300, \"cmap\":\"gray\"})"
   ]
  },
  {
   "cell_type": "code",
   "execution_count": null,
   "metadata": {
    "collapsed": true
   },
   "outputs": [],
   "source": [
    "min_sigma=2               # sigma of the minimum gaussian filter\n",
    "max_sigma=5               # sigma of the maximum gaussian filter\n",
    "threshold=1               # minimum intensity threshold for a peak\n",
    "min_size=30               # minimum number of pixels for a peak\n",
    "processed = processed.find_peaks_and_clean_images(min_sigma=min_sigma, max_sigma=max_sigma, \n",
    "                                                  threshold=threshold, min_size=min_size)"
   ]
  },
  {
   "cell_type": "code",
   "execution_count": null,
   "metadata": {
    "collapsed": true
   },
   "outputs": [],
   "source": [
    "name = \"FAU\"              # name of the phase\n",
    "pixelsize = 0.00433       # pixel per Angstrom\n",
    "dmin, dmax = 1.0, 10.0    # Angstrom\n",
    "thickness = 100           # nm used to estimate the width of the reflections (max. excitation error)\n",
    "params = (24.3450,)       # cell parameters\n",
    "spgr = \"Fd-3m\"            # space group\n",
    "projector = Projector.from_parameters(params, spgr=spgr, name=name, \n",
    "                                      dmin=dmin, dmax=dmax, thickness=thickness)\n",
    "indexer = Indexer.from_projector(projector, pixelsize=pixelsize)"
   ]
  },
  {
   "cell_type": "code",
   "execution_count": null,
   "metadata": {
    "collapsed": true
   },
   "outputs": [],
   "source": [
    "orientations = processed.find_orientations(indexer, centers)"
   ]
  },
  {
   "cell_type": "code",
   "execution_count": null,
   "metadata": {
    "collapsed": true
   },
   "outputs": [],
   "source": [
    "refined = processed.refine_orientations(indexer, orientations)\n",
    "serialED.io_utils.save_orientations(refined)"
   ]
  },
  {
   "cell_type": "code",
   "execution_count": null,
   "metadata": {
    "collapsed": true
   },
   "outputs": [],
   "source": [
    "ed.orientation_explorer(indexer, refined, imshow_kwargs={\"vmax\":300, \"cmap\":\"gray\"})"
   ]
  },
  {
   "cell_type": "code",
   "execution_count": null,
   "metadata": {
    "collapsed": true
   },
   "outputs": [],
   "source": [
    "processed.export_indexing_results(fname=\"orientations.ycsv\")"
   ]
  },
  {
   "cell_type": "code",
   "execution_count": null,
   "metadata": {
    "collapsed": true
   },
   "outputs": [],
   "source": [
    "orientations = serialED.io_utils.load_orientations()\n",
    "intensities = processed.extract_intensities(orientations=orientations, indexer=indexer)"
   ]
  },
  {
   "cell_type": "code",
   "execution_count": null,
   "metadata": {
    "collapsed": true
   },
   "outputs": [],
   "source": [
    "m = serialED.serialmerge_intensities(intensities, orientations, n=50)"
   ]
  },
  {
   "cell_type": "code",
   "execution_count": null,
   "metadata": {
    "collapsed": true
   },
   "outputs": [],
   "source": [
    "processed.save(\"processed.hdf5\")"
   ]
  },
  {
   "cell_type": "code",
   "execution_count": null,
   "metadata": {
    "collapsed": true
   },
   "outputs": [],
   "source": [
    "processed = serialED.load(\"processed.hdf5\")"
   ]
  },
  {
   "cell_type": "code",
   "execution_count": null,
   "metadata": {
    "collapsed": true
   },
   "outputs": [],
   "source": []
  }
 ],
 "metadata": {
  "kernelspec": {
   "display_name": "Python (py36)",
   "language": "python",
   "name": "py36"
  },
  "language_info": {
   "codemirror_mode": {
    "name": "ipython",
    "version": 3
   },
   "file_extension": ".py",
   "mimetype": "text/x-python",
   "name": "python",
   "nbconvert_exporter": "python",
   "pygments_lexer": "ipython3",
   "version": "3.6.3"
  }
 },
 "nbformat": 4,
 "nbformat_minor": 2
}
