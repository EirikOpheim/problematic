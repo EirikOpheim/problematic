{
 "cells": [
  {
   "cell_type": "code",
   "execution_count": null,
   "metadata": {
    "collapsed": false
   },
   "outputs": [],
   "source": [
    "%matplotlib inline\n",
    "import matplotlib.pyplot as plt\n",
    "plt.rcParams[\"figure.figsize\"] = 20, 10\n",
    "\n",
    "from instamatic.processing.indexer import *\n",
    "from instamatic.tools import get_files\n",
    "import glob\n",
    "import h5py"
   ]
  },
  {
   "cell_type": "code",
   "execution_count": null,
   "metadata": {
    "collapsed": false
   },
   "outputs": [],
   "source": [
    "from collections import OrderedDict, defaultdict\n",
    "d = defaultdict(OrderedDict)\n",
    "\n",
    "d[\"title\"] = \"indexing\"\n",
    "\n",
    "d[\"experiment\"][\"pixelsize\"] = 0.00411\n",
    "d[\"projections\"][\"dmin\"] = 1.0\n",
    "d[\"projections\"][\"dmax\"] = 10.0\n",
    "d[\"projections\"][\"thickness\"] = 400\n",
    "d[\"projections\"][\"wavelength\"] = 0.0251\n",
    "\n",
    "d[\"cell\"][\"params\"] = (24.2576, )\n",
    "d[\"cell\"][\"name\"] = \"NaY\"\n",
    "d[\"cell\"][\"spgr\"] = \"Fd-3m\"\n",
    "d[\"cell\"][\"composition\"] = \"Si96 O192\"\n",
    "\n",
    "d[\"data\"][\"files\"] = \"stream.txt\"\n",
    "\n",
    "d[\"data\"][\"csv_out\"] = \"results.ycsv\"\n",
    "d[\"data\"][\"drc_out\"] = \"indexing\"\n",
    "\n",
    "yaml_ordered_dump(d, \"indexing.inp\", default_flow_style=False)"
   ]
  },
  {
   "cell_type": "code",
   "execution_count": null,
   "metadata": {
    "collapsed": false
   },
   "outputs": [],
   "source": [
    "d = yaml_ordered_load(\"indexing.inp\")\n",
    "\n",
    "pixelsize = d[\"experiment\"][\"pixelsize\"]\n",
    "files = d[\"data\"][\"files\"]\n",
    "\n",
    "method = \"powell\"\n",
    "radius = 3\n",
    "nsolutions = 25\n",
    "filter1d = False\n",
    "nprojs = 100\n",
    "vary_scale = True\n",
    "vary_center = True\n",
    "\n",
    "if isinstance(d[\"cell\"], (tuple, list)):\n",
    "    pixelsize = d[\"experiment\"][\"pixelsize\"]\n",
    "    indexer = IndexerMulti.from_cells(d[\"cell\"], pixelsize=pixelsize, **d[\"projections\"])\n",
    "else:\n",
    "    projector = Projector.from_parameters(**dict(d[\"cell\"].items() + d[\"projections\"].items()))\n",
    "    indexer = Indexer.from_projector(projector, pixelsize=d[\"experiment\"][\"pixelsize\"])"
   ]
  },
  {
   "cell_type": "code",
   "execution_count": null,
   "metadata": {
    "collapsed": false,
    "scrolled": false
   },
   "outputs": [],
   "source": [
    "all_refined = {}\n",
    "all_results = {}\n",
    "\n",
    "fns = get_files(files)\n",
    "# fns = glob.glob(\"./processed/*.h5\")\n",
    "\n",
    "if True:\n",
    "    for i, fn in enumerate(fns):\n",
    "        print fn\n",
    "            \n",
    "        f = h5py.File(fn)\n",
    "\n",
    "        data = np.array(f[\"data\"])\n",
    "        rawdata = np.array(f[\"rawdata\"])\n",
    "        \n",
    "        data = np.clip(data, 0, data.max())\n",
    "        \n",
    "        center = np.array(f[\"peakinfo/beam_center\"])\n",
    "        \n",
    "        ax1 = plt.subplot(121, aspect=\"equal\")\n",
    "        ax2 = plt.subplot(122, aspect=\"equal\")\n",
    "        \n",
    "        results = indexer.index(data, center, nsolutions=nsolutions, \n",
    "                                filter1d=filter1d, nprojs=nprojs)\n",
    "        all_results[fn] = results[0]\n",
    "        indexer.plot(data, results[0], vmin=0, vmax=250, ax=ax1)\n",
    "        \n",
    "        refined = indexer.refine_all(data, results, sort=True, \n",
    "                                     method=method, vary_scale=vary_scale, vary_center=vary_center)\n",
    "        best = refined[0]\n",
    "        all_refined[fn] = best\n",
    "        \n",
    "        indexer.plot(rawdata, best, vmin=0, vmax=250, ax=ax2)\n",
    "        plt.show()\n",
    "    \n",
    "        f.close()\n",
    "        # if i > 10:break\n"
   ]
  },
  {
   "cell_type": "code",
   "execution_count": null,
   "metadata": {
    "collapsed": true
   },
   "outputs": [],
   "source": [
    "%load_ext line_profiler\n",
    "%lprun -f indexer.find_orientation indexer.index(img, center, nsolutions=25)"
   ]
  },
  {
   "cell_type": "code",
   "execution_count": null,
   "metadata": {
    "collapsed": false
   },
   "outputs": [],
   "source": [
    "df = results2df(all_refined)\n",
    "df = df.sort_index()\n",
    "# df = df[df.score > 150]\n",
    "print len(df)\n",
    "plt.plot(df.alpha.values, marker=\"o\", lw=0, label=\"alpha\")\n",
    "plt.plot(df.beta.values, marker=\"o\", lw=0, label=\"beta\")\n",
    "plt.plot(df.gamma.values, marker=\"o\", lw=0, label=\"gamma\")\n",
    "# plt.ylim(0, np.pi)\n",
    "plt.legend()\n",
    "df"
   ]
  },
  {
   "cell_type": "code",
   "execution_count": null,
   "metadata": {
    "collapsed": false
   },
   "outputs": [],
   "source": [
    "df = results2df(all_results)\n",
    "df = df.sort_index()\n",
    "# df = df[df.score > 150]\n",
    "print len(df)\n",
    "plt.plot(df.alpha.values, marker=\"o\", lw=0, label=\"alpha\")\n",
    "plt.plot(df.beta.values, marker=\"o\", lw=0, label=\"beta\")\n",
    "plt.plot(df.gamma.values, marker=\"o\", lw=0, label=\"gamma\")\n",
    "# plt.ylim(0, np.pi)\n",
    "plt.legend()"
   ]
  },
  {
   "cell_type": "code",
   "execution_count": null,
   "metadata": {
    "collapsed": false
   },
   "outputs": [],
   "source": [
    "number,alpha,beta,gamma,center_x,center_y,scale = 803,0.978,0.4169,0.9026,1065,1011,643.087\n",
    "proj = indexer.projector.get_projection(alpha, beta, gamma)\n",
    "hkl = proj[:,0:3]\n",
    "pks = proj[:,3:5]\n",
    "factor = proj[:,5]"
   ]
  },
  {
   "cell_type": "code",
   "execution_count": null,
   "metadata": {
    "collapsed": true
   },
   "outputs": [],
   "source": []
  }
 ],
 "metadata": {
  "kernelspec": {
   "display_name": "Python 2",
   "language": "python",
   "name": "python2"
  },
  "language_info": {
   "codemirror_mode": {
    "name": "ipython",
    "version": 2
   },
   "file_extension": ".py",
   "mimetype": "text/x-python",
   "name": "python",
   "nbconvert_exporter": "python",
   "pygments_lexer": "ipython2",
   "version": "2.7.12"
  }
 },
 "nbformat": 4,
 "nbformat_minor": 1
}
